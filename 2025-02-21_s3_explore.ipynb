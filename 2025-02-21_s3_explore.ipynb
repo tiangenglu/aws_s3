{
 "cells": [
  {
   "cell_type": "code",
   "execution_count": 1,
   "id": "3a55d1d2",
   "metadata": {},
   "outputs": [],
   "source": [
    "import pandas as pd\n",
    "import boto3 # conda activate env, conda install boto3\n",
    "import io\n",
    "import getpass\n",
    "import pandas as pd"
   ]
  },
  {
   "cell_type": "markdown",
   "id": "0e39a322",
   "metadata": {},
   "source": [
    "# Establish Connection to S3"
   ]
  },
  {
   "cell_type": "code",
   "execution_count": 2,
   "id": "c674abe6",
   "metadata": {},
   "outputs": [
    {
     "name": "stdout",
     "output_type": "stream",
     "text": [
      "aws_access_key_id: ········\n"
     ]
    }
   ],
   "source": [
    "my_aws_access_key_id = '{0}'.format(getpass.getpass('aws_access_key_id: '))"
   ]
  },
  {
   "cell_type": "code",
   "execution_count": 3,
   "id": "6313fb60",
   "metadata": {},
   "outputs": [
    {
     "name": "stdout",
     "output_type": "stream",
     "text": [
      "aws_secret_access_key: ········\n"
     ]
    }
   ],
   "source": [
    "my_aws_secret_access_key = '{0}'.format(getpass.getpass('aws_secret_access_key: '))"
   ]
  },
  {
   "cell_type": "code",
   "execution_count": 4,
   "id": "89cebe87",
   "metadata": {},
   "outputs": [
    {
     "name": "stdout",
     "output_type": "stream",
     "text": [
      "bucket_name: ········\n"
     ]
    }
   ],
   "source": [
    "my_bucket = '{0}'.format(getpass.getpass('bucket_name: '))"
   ]
  },
  {
   "cell_type": "code",
   "execution_count": 5,
   "id": "42f77b2d",
   "metadata": {},
   "outputs": [],
   "source": [
    "session = boto3.Session(profile_name = None,\n",
    "                        region_name = 'us-east-2')\n",
    "conn = session.client('s3',\n",
    "                      aws_access_key_id = my_aws_access_key_id,\n",
    "                      aws_secret_access_key = my_aws_secret_access_key)"
   ]
  },
  {
   "cell_type": "code",
   "execution_count": 6,
   "id": "4dbf8685",
   "metadata": {},
   "outputs": [],
   "source": [
    "files_content = conn.list_objects(Bucket = my_bucket)['Contents']\n",
    "file_names = [file['Key'] for file in files_content]"
   ]
  },
  {
   "cell_type": "code",
   "execution_count": 7,
   "id": "e909f3f5",
   "metadata": {},
   "outputs": [
    {
     "name": "stdout",
     "output_type": "stream",
     "text": [
      "['detail.txt', 'opm_201309/DTagelvl.txt', 'opm_201309/DTagy.txt', 'opm_201309/DTdate.txt', 'opm_201309/DTedlvl.txt', 'opm_201309/DTgsegrd.txt', 'opm_201309/DTloc.txt', 'opm_201309/DTloslvl.txt', 'opm_201309/DTocc.txt', 'opm_201309/DTpatco.txt', 'opm_201309/DTppgrd.txt', 'opm_201309/DTsallvl.txt', 'opm_201309/DTstemocc.txt', 'opm_201309/DTsuper.txt', 'opm_201309/DTtoa.txt', 'opm_201309/DTwkstat.txt', 'opm_201309/DTwrksch.txt', 'opm_201309/FACTDATA_SEP2013.TXT', 'opm_201309/FS_Employment_Sep2013_Documentation.pdf', 'opm_201309/ReadRawData_CreateTempDatasets_DataGov.sas', 'opm_202309/DTagelvl.txt', 'opm_202309/DTagy.txt', 'opm_202309/DTdate.txt', 'opm_202309/DTedlvl.txt', 'opm_202309/DTgsegrd.txt', 'opm_202309/DTloc.txt', 'opm_202309/DTloslvl.txt', 'opm_202309/DTocc.txt', 'opm_202309/DTpatco.txt', 'opm_202309/DTpp.txt', 'opm_202309/DTppgrd.txt', 'opm_202309/DTsallvl.txt', 'opm_202309/DTstemocc.txt', 'opm_202309/DTsuper.txt', 'opm_202309/DTtoa.txt', 'opm_202309/DTwkstat.txt', 'opm_202309/DTwrksch.txt', 'opm_202309/FACTDATA_SEP2023.TXT', 'opm_202309/FS_Employment_Sep2023_Documentation.pdf', 'opm_202309/ReadRawData_CreateTempDatasets_DataGov.sas', 'opm_202309/fact_202309.csv', 'opm_202309/occ1530_202309.csv']\n"
     ]
    }
   ],
   "source": [
    "print(file_names)"
   ]
  },
  {
   "cell_type": "markdown",
   "id": "c96b31bd",
   "metadata": {},
   "source": [
    "# Retrieve and Work with Data in S3"
   ]
  },
  {
   "cell_type": "code",
   "execution_count": 8,
   "id": "b052b6ef",
   "metadata": {},
   "outputs": [],
   "source": [
    "response = conn.get_object(Bucket = my_bucket, Key = 'opm_202309/FACTDATA_SEP2023.TXT')\n",
    "file = response['Body'].read()"
   ]
  },
  {
   "cell_type": "code",
   "execution_count": 10,
   "id": "0e55d4cf",
   "metadata": {},
   "outputs": [],
   "source": [
    "df_fact = pd.read_csv(io.BytesIO(file), low_memory=False)"
   ]
  },
  {
   "cell_type": "code",
   "execution_count": 11,
   "id": "54868651",
   "metadata": {},
   "outputs": [
    {
     "name": "stdout",
     "output_type": "stream",
     "text": [
      "<class 'pandas.core.frame.DataFrame'>\n",
      "RangeIndex: 2258821 entries, 0 to 2258820\n",
      "Data columns (total 20 columns):\n",
      " #   Column      Dtype  \n",
      "---  ------      -----  \n",
      " 0   AGYSUB      object \n",
      " 1   LOC         object \n",
      " 2   AGELVL      object \n",
      " 3   EDLVL       object \n",
      " 4   GSEGRD      object \n",
      " 5   LOSLVL      object \n",
      " 6   OCC         object \n",
      " 7   PATCO       int64  \n",
      " 8   PP          object \n",
      " 9   PPGRD       object \n",
      " 10  SALLVL      object \n",
      " 11  STEMOCC     object \n",
      " 12  SUPERVIS    object \n",
      " 13  TOA         object \n",
      " 14  WORKSCH     object \n",
      " 15  WORKSTAT    int64  \n",
      " 16  DATECODE    int64  \n",
      " 17  EMPLOYMENT  int64  \n",
      " 18  SALARY      float64\n",
      " 19  LOS         float64\n",
      "dtypes: float64(2), int64(4), object(14)\n",
      "memory usage: 344.7+ MB\n"
     ]
    }
   ],
   "source": [
    "df_fact.info()"
   ]
  },
  {
   "cell_type": "code",
   "execution_count": 12,
   "id": "67b505b4",
   "metadata": {},
   "outputs": [
    {
     "data": {
      "text/html": [
       "<div>\n",
       "<style scoped>\n",
       "    .dataframe tbody tr th:only-of-type {\n",
       "        vertical-align: middle;\n",
       "    }\n",
       "\n",
       "    .dataframe tbody tr th {\n",
       "        vertical-align: top;\n",
       "    }\n",
       "\n",
       "    .dataframe thead th {\n",
       "        text-align: right;\n",
       "    }\n",
       "</style>\n",
       "<table border=\"1\" class=\"dataframe\">\n",
       "  <thead>\n",
       "    <tr style=\"text-align: right;\">\n",
       "      <th></th>\n",
       "      <th>AGYSUB</th>\n",
       "      <th>LOC</th>\n",
       "      <th>AGELVL</th>\n",
       "      <th>EDLVL</th>\n",
       "      <th>GSEGRD</th>\n",
       "      <th>LOSLVL</th>\n",
       "      <th>OCC</th>\n",
       "      <th>PATCO</th>\n",
       "      <th>PP</th>\n",
       "      <th>PPGRD</th>\n",
       "      <th>SALLVL</th>\n",
       "      <th>STEMOCC</th>\n",
       "      <th>SUPERVIS</th>\n",
       "      <th>TOA</th>\n",
       "      <th>WORKSCH</th>\n",
       "      <th>WORKSTAT</th>\n",
       "      <th>DATECODE</th>\n",
       "      <th>EMPLOYMENT</th>\n",
       "      <th>SALARY</th>\n",
       "      <th>LOS</th>\n",
       "    </tr>\n",
       "  </thead>\n",
       "  <tbody>\n",
       "    <tr>\n",
       "      <th>0</th>\n",
       "      <td>AA00</td>\n",
       "      <td>11</td>\n",
       "      <td>F</td>\n",
       "      <td>13</td>\n",
       "      <td>NaN</td>\n",
       "      <td>G</td>\n",
       "      <td>0340</td>\n",
       "      <td>2</td>\n",
       "      <td>ES</td>\n",
       "      <td>ES-**</td>\n",
       "      <td>T</td>\n",
       "      <td>XXXX</td>\n",
       "      <td>2</td>\n",
       "      <td>50</td>\n",
       "      <td>F</td>\n",
       "      <td>1</td>\n",
       "      <td>202309</td>\n",
       "      <td>1</td>\n",
       "      <td>210000.0</td>\n",
       "      <td>20.3</td>\n",
       "    </tr>\n",
       "    <tr>\n",
       "      <th>1</th>\n",
       "      <td>AA00</td>\n",
       "      <td>11</td>\n",
       "      <td>I</td>\n",
       "      <td>15</td>\n",
       "      <td>NaN</td>\n",
       "      <td>I</td>\n",
       "      <td>0905</td>\n",
       "      <td>1</td>\n",
       "      <td>ES</td>\n",
       "      <td>ES-**</td>\n",
       "      <td>T</td>\n",
       "      <td>XXXX</td>\n",
       "      <td>2</td>\n",
       "      <td>50</td>\n",
       "      <td>F</td>\n",
       "      <td>1</td>\n",
       "      <td>202309</td>\n",
       "      <td>1</td>\n",
       "      <td>203000.0</td>\n",
       "      <td>30.7</td>\n",
       "    </tr>\n",
       "    <tr>\n",
       "      <th>2</th>\n",
       "      <td>AA00</td>\n",
       "      <td>11</td>\n",
       "      <td>F</td>\n",
       "      <td>04</td>\n",
       "      <td>14</td>\n",
       "      <td>E</td>\n",
       "      <td>0905</td>\n",
       "      <td>1</td>\n",
       "      <td>99</td>\n",
       "      <td>GS-14</td>\n",
       "      <td>Q</td>\n",
       "      <td>XXXX</td>\n",
       "      <td>8</td>\n",
       "      <td>30</td>\n",
       "      <td>F</td>\n",
       "      <td>1</td>\n",
       "      <td>202309</td>\n",
       "      <td>1</td>\n",
       "      <td>172075.0</td>\n",
       "      <td>14.1</td>\n",
       "    </tr>\n",
       "    <tr>\n",
       "      <th>3</th>\n",
       "      <td>AA00</td>\n",
       "      <td>11</td>\n",
       "      <td>E</td>\n",
       "      <td>15</td>\n",
       "      <td>NaN</td>\n",
       "      <td>E</td>\n",
       "      <td>0905</td>\n",
       "      <td>1</td>\n",
       "      <td>ES</td>\n",
       "      <td>ES-**</td>\n",
       "      <td>S</td>\n",
       "      <td>XXXX</td>\n",
       "      <td>8</td>\n",
       "      <td>50</td>\n",
       "      <td>F</td>\n",
       "      <td>1</td>\n",
       "      <td>202309</td>\n",
       "      <td>1</td>\n",
       "      <td>195000.0</td>\n",
       "      <td>12.0</td>\n",
       "    </tr>\n",
       "    <tr>\n",
       "      <th>4</th>\n",
       "      <td>AA00</td>\n",
       "      <td>11</td>\n",
       "      <td>G</td>\n",
       "      <td>15</td>\n",
       "      <td>14</td>\n",
       "      <td>E</td>\n",
       "      <td>0905</td>\n",
       "      <td>1</td>\n",
       "      <td>99</td>\n",
       "      <td>GS-14</td>\n",
       "      <td>O</td>\n",
       "      <td>XXXX</td>\n",
       "      <td>8</td>\n",
       "      <td>30</td>\n",
       "      <td>F</td>\n",
       "      <td>1</td>\n",
       "      <td>202309</td>\n",
       "      <td>1</td>\n",
       "      <td>150016.0</td>\n",
       "      <td>11.3</td>\n",
       "    </tr>\n",
       "  </tbody>\n",
       "</table>\n",
       "</div>"
      ],
      "text/plain": [
       "  AGYSUB LOC AGELVL EDLVL GSEGRD LOSLVL   OCC  PATCO  PP  PPGRD SALLVL  \\\n",
       "0   AA00  11      F    13    NaN      G  0340      2  ES  ES-**      T   \n",
       "1   AA00  11      I    15    NaN      I  0905      1  ES  ES-**      T   \n",
       "2   AA00  11      F    04     14      E  0905      1  99  GS-14      Q   \n",
       "3   AA00  11      E    15    NaN      E  0905      1  ES  ES-**      S   \n",
       "4   AA00  11      G    15     14      E  0905      1  99  GS-14      O   \n",
       "\n",
       "  STEMOCC SUPERVIS TOA WORKSCH  WORKSTAT  DATECODE  EMPLOYMENT    SALARY   LOS  \n",
       "0    XXXX        2  50       F         1    202309           1  210000.0  20.3  \n",
       "1    XXXX        2  50       F         1    202309           1  203000.0  30.7  \n",
       "2    XXXX        8  30       F         1    202309           1  172075.0  14.1  \n",
       "3    XXXX        8  50       F         1    202309           1  195000.0  12.0  \n",
       "4    XXXX        8  30       F         1    202309           1  150016.0  11.3  "
      ]
     },
     "execution_count": 12,
     "metadata": {},
     "output_type": "execute_result"
    }
   ],
   "source": [
    "df_fact.head()"
   ]
  }
 ],
 "metadata": {
  "hide_input": false,
  "kernelspec": {
   "display_name": "Python 3 (ipykernel)",
   "language": "python",
   "name": "python3"
  },
  "language_info": {
   "codemirror_mode": {
    "name": "ipython",
    "version": 3
   },
   "file_extension": ".py",
   "mimetype": "text/x-python",
   "name": "python",
   "nbconvert_exporter": "python",
   "pygments_lexer": "ipython3",
   "version": "3.9.18"
  },
  "toc": {
   "base_numbering": 1,
   "nav_menu": {},
   "number_sections": true,
   "sideBar": true,
   "skip_h1_title": false,
   "title_cell": "Table of Contents",
   "title_sidebar": "Contents",
   "toc_cell": false,
   "toc_position": {},
   "toc_section_display": true,
   "toc_window_display": false
  },
  "varInspector": {
   "cols": {
    "lenName": 16,
    "lenType": 16,
    "lenVar": 40
   },
   "kernels_config": {
    "python": {
     "delete_cmd_postfix": "",
     "delete_cmd_prefix": "del ",
     "library": "var_list.py",
     "varRefreshCmd": "print(var_dic_list())"
    },
    "r": {
     "delete_cmd_postfix": ") ",
     "delete_cmd_prefix": "rm(",
     "library": "var_list.r",
     "varRefreshCmd": "cat(var_dic_list()) "
    }
   },
   "types_to_exclude": [
    "module",
    "function",
    "builtin_function_or_method",
    "instance",
    "_Feature"
   ],
   "window_display": false
  }
 },
 "nbformat": 4,
 "nbformat_minor": 5
}
