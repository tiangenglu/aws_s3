{
 "cells": [
  {
   "cell_type": "markdown",
   "id": "9c6c2155",
   "metadata": {},
   "source": [
    "# Highlights\n",
    "\n",
    "- This program only imports `psycopg2`, no `SQLAlchemy` is needed (although `pandas.read_sql_query()` gives a warning message).\n",
    "- `psycopg2.connect(database= , user= , password= , host= , port= ).cursor().execute()`\n",
    "- Wrap queries in `execute()`, use triple quotation marks.\n",
    "- Always remember to commit using `psycopg2.connect().commit()`.\n",
    "- Avoid joining text-based columns in `pandas` because typical special character escape syntax isn't honored. `psycopg2.connect().cursor().execute(sql_query)`.\n",
    "- If not using `SQLAlchemy` and only relying on `psycopg2`, `INSERT INTO table () VALUES (),()...;` is the way to upload `pandas` dataframe to sql database (not recommend).\n",
    "- `df.to_sql()` won't work without `SQLAlchemy` engine"
   ]
  },
  {
   "cell_type": "code",
   "execution_count": 1,
   "id": "b2c2ce10",
   "metadata": {},
   "outputs": [],
   "source": [
    "import sys\n",
    "import psycopg2\n",
    "import getpass\n",
    "import pandas as pd"
   ]
  },
  {
   "cell_type": "code",
   "execution_count": 3,
   "id": "f2508a3f",
   "metadata": {},
   "outputs": [
    {
     "name": "stdout",
     "output_type": "stream",
     "text": [
      "sys.version_info(major=3, minor=12, micro=2, releaselevel='final', serial=0)\n",
      "psycopg2 version: 2.9.9 (dt dec pq3 ext lo64)\n",
      "pandas version: 2.1.4\n"
     ]
    }
   ],
   "source": [
    "print(sys.version_info)\n",
    "print('psycopg2 version:',psycopg2.__version__)\n",
    "print('pandas version:',pd.__version__)"
   ]
  },
  {
   "cell_type": "markdown",
   "id": "8a3d0e94",
   "metadata": {},
   "source": [
    "# Establish Connection\n",
    "\n",
    "`psycopg2.connect(database= , user= , password= , host= , port=)`"
   ]
  },
  {
   "cell_type": "code",
   "execution_count": 4,
   "id": "aca03efa",
   "metadata": {},
   "outputs": [
    {
     "name": "stdout",
     "output_type": "stream",
     "text": [
      "database name: ········\n",
      "password: ········\n"
     ]
    }
   ],
   "source": [
    "database_name = f'{getpass.getpass('database name: ')}'\n",
    "host_name = 'localhost'\n",
    "my_port = '5433'\n",
    "username = 'postgres'\n",
    "pass_word = f'{getpass.getpass('password: ')}'"
   ]
  },
  {
   "cell_type": "code",
   "execution_count": 26,
   "id": "56527908",
   "metadata": {},
   "outputs": [
    {
     "name": "stdout",
     "output_type": "stream",
     "text": [
      "Database opm*** connected.\n"
     ]
    }
   ],
   "source": [
    "try:\n",
    "    conn = psycopg2.connect(\n",
    "        database = database_name,\n",
    "        user = username,\n",
    "        password = pass_word,\n",
    "        host = host_name,\n",
    "        port = my_port)\n",
    "    print(f\"Database {database_name[:3]+\"***\"} connected.\")\n",
    "except:\n",
    "    print(f\"Database {database_name[:3]+\"***\"} cannot be connected.\")"
   ]
  },
  {
   "cell_type": "markdown",
   "id": "f44b9a79",
   "metadata": {},
   "source": [
    "# Cursor\n",
    "\n",
    "- `psycopg2.connect().cursor()` # create cursor\n",
    "- `psycopg2.connect().cursor().execute(sql queries)` # put the query block in quotation marks\n",
    "- `psycopg2.connect().commit()` # commit updates to the database"
   ]
  },
  {
   "cell_type": "code",
   "execution_count": 23,
   "id": "f15c1629",
   "metadata": {},
   "outputs": [],
   "source": [
    "# Open a cursor to perform database operations\n",
    "cur = conn.cursor()\n",
    "# Query and save to a python object then print the object\n",
    "# Multiple queries are ok\n",
    "# If aborted, try re-establish the connection\n",
    "cur.execute(\"\"\"\n",
    "DROP TABLE IF EXISTS cm63_hq_mar2024_toa;\n",
    "\n",
    "CREATE TABLE cm63_hq_mar2024_toa AS\n",
    "SELECT TOATYPT AS \"tenure-type\",TOAT AS \"tenure\", COUNT(TOA) AS headcount,\n",
    "ROUND(100*CAST(COUNT(TOA) AS NUMERIC)/(SELECT COUNT(*) FROM FACT WHERE AGYSUB = 'CM63' AND loc = '24'),2) AS PCT\n",
    "FROM FACT\n",
    "JOIN APPOINTMENT USING(TOA)\n",
    "WHERE AGYSUB = 'CM63' AND loc = '24'\n",
    "GROUP BY TOATYPT,TOAT\n",
    "ORDER BY TOATYPT DESC,TOAT, HEADCOUNT;\n",
    "\n",
    "ALTER TABLE cm63_hq_mar2024_toa ADD COLUMN time DATE;\n",
    "\n",
    "UPDATE cm63_hq_mar2024_toa SET time = '2024-03-01';\n",
    "\n",
    "COPY cm63_hq_mar2024_toa TO '/Users/tiangeng/Public/data/cm63_hq_mar2024_toa.csv'\n",
    "DELIMITER ',' CSV HEADER;\n",
    "\"\"\")\n",
    "# Make the changes to the database\n",
    "# Refresh tables in pgadmin, updates have been committed\n",
    "conn.commit()"
   ]
  },
  {
   "cell_type": "code",
   "execution_count": 24,
   "id": "5449424a",
   "metadata": {},
   "outputs": [
    {
     "name": "stderr",
     "output_type": "stream",
     "text": [
      "/var/folders/n9/04pbbq7530z_9231l9_lbz740000gn/T/ipykernel_89663/3188216477.py:1: UserWarning: pandas only supports SQLAlchemy connectable (engine/connection) or database string URI or sqlite3 DBAPI2 connection. Other DBAPI2 objects are not tested. Please consider using SQLAlchemy.\n",
      "  sql_cm63_hq_toa = pd.read_sql_query(\"\"\"\n"
     ]
    },
    {
     "data": {
      "text/html": [
       "<div>\n",
       "<style scoped>\n",
       "    .dataframe tbody tr th:only-of-type {\n",
       "        vertical-align: middle;\n",
       "    }\n",
       "\n",
       "    .dataframe tbody tr th {\n",
       "        vertical-align: top;\n",
       "    }\n",
       "\n",
       "    .dataframe thead th {\n",
       "        text-align: right;\n",
       "    }\n",
       "</style>\n",
       "<table border=\"1\" class=\"dataframe\">\n",
       "  <thead>\n",
       "    <tr style=\"text-align: right;\">\n",
       "      <th></th>\n",
       "      <th>tenure-type</th>\n",
       "      <th>tenure</th>\n",
       "      <th>headcount</th>\n",
       "      <th>pct</th>\n",
       "      <th>time</th>\n",
       "    </tr>\n",
       "  </thead>\n",
       "  <tbody>\n",
       "    <tr>\n",
       "      <th>0</th>\n",
       "      <td>Permanent</td>\n",
       "      <td>10-Competitive Service - Career</td>\n",
       "      <td>3676</td>\n",
       "      <td>80.63</td>\n",
       "      <td>2024-03-01</td>\n",
       "    </tr>\n",
       "    <tr>\n",
       "      <th>1</th>\n",
       "      <td>Permanent</td>\n",
       "      <td>15-Competitive Service - Career-Conditional</td>\n",
       "      <td>433</td>\n",
       "      <td>9.50</td>\n",
       "      <td>2024-03-01</td>\n",
       "    </tr>\n",
       "    <tr>\n",
       "      <th>2</th>\n",
       "      <td>Permanent</td>\n",
       "      <td>30-Excepted Service - Schedule A</td>\n",
       "      <td>214</td>\n",
       "      <td>4.69</td>\n",
       "      <td>2024-03-01</td>\n",
       "    </tr>\n",
       "    <tr>\n",
       "      <th>3</th>\n",
       "      <td>Permanent</td>\n",
       "      <td>35-Excepted Service - Schedule D</td>\n",
       "      <td>10</td>\n",
       "      <td>0.22</td>\n",
       "      <td>2024-03-01</td>\n",
       "    </tr>\n",
       "    <tr>\n",
       "      <th>4</th>\n",
       "      <td>Permanent</td>\n",
       "      <td>38-Excepted Service - Other</td>\n",
       "      <td>23</td>\n",
       "      <td>0.50</td>\n",
       "      <td>2024-03-01</td>\n",
       "    </tr>\n",
       "    <tr>\n",
       "      <th>5</th>\n",
       "      <td>Permanent</td>\n",
       "      <td>50-Senior Executive Service - Career</td>\n",
       "      <td>44</td>\n",
       "      <td>0.97</td>\n",
       "      <td>2024-03-01</td>\n",
       "    </tr>\n",
       "    <tr>\n",
       "      <th>6</th>\n",
       "      <td>Permanent</td>\n",
       "      <td>55-Senior Executive Service - Non-Career</td>\n",
       "      <td>2</td>\n",
       "      <td>0.04</td>\n",
       "      <td>2024-03-01</td>\n",
       "    </tr>\n",
       "    <tr>\n",
       "      <th>7</th>\n",
       "      <td>Non-permanent</td>\n",
       "      <td>20-Competitive Service</td>\n",
       "      <td>22</td>\n",
       "      <td>0.48</td>\n",
       "      <td>2024-03-01</td>\n",
       "    </tr>\n",
       "    <tr>\n",
       "      <th>8</th>\n",
       "      <td>Non-permanent</td>\n",
       "      <td>40-Excepted Service - Schedule A</td>\n",
       "      <td>127</td>\n",
       "      <td>2.79</td>\n",
       "      <td>2024-03-01</td>\n",
       "    </tr>\n",
       "    <tr>\n",
       "      <th>9</th>\n",
       "      <td>Non-permanent</td>\n",
       "      <td>45-Excepted Service - Schedule D</td>\n",
       "      <td>6</td>\n",
       "      <td>0.13</td>\n",
       "      <td>2024-03-01</td>\n",
       "    </tr>\n",
       "    <tr>\n",
       "      <th>10</th>\n",
       "      <td>Non-permanent</td>\n",
       "      <td>46-Excepted Service - Executive</td>\n",
       "      <td>1</td>\n",
       "      <td>0.02</td>\n",
       "      <td>2024-03-01</td>\n",
       "    </tr>\n",
       "    <tr>\n",
       "      <th>11</th>\n",
       "      <td>Non-permanent</td>\n",
       "      <td>48-Excepted Service - Other</td>\n",
       "      <td>1</td>\n",
       "      <td>0.02</td>\n",
       "      <td>2024-03-01</td>\n",
       "    </tr>\n",
       "  </tbody>\n",
       "</table>\n",
       "</div>"
      ],
      "text/plain": [
       "      tenure-type                                       tenure  headcount  \\\n",
       "0       Permanent              10-Competitive Service - Career       3676   \n",
       "1       Permanent  15-Competitive Service - Career-Conditional        433   \n",
       "2       Permanent             30-Excepted Service - Schedule A        214   \n",
       "3       Permanent             35-Excepted Service - Schedule D         10   \n",
       "4       Permanent                  38-Excepted Service - Other         23   \n",
       "5       Permanent         50-Senior Executive Service - Career         44   \n",
       "6       Permanent     55-Senior Executive Service - Non-Career          2   \n",
       "7   Non-permanent                       20-Competitive Service         22   \n",
       "8   Non-permanent             40-Excepted Service - Schedule A        127   \n",
       "9   Non-permanent             45-Excepted Service - Schedule D          6   \n",
       "10  Non-permanent              46-Excepted Service - Executive          1   \n",
       "11  Non-permanent                  48-Excepted Service - Other          1   \n",
       "\n",
       "      pct        time  \n",
       "0   80.63  2024-03-01  \n",
       "1    9.50  2024-03-01  \n",
       "2    4.69  2024-03-01  \n",
       "3    0.22  2024-03-01  \n",
       "4    0.50  2024-03-01  \n",
       "5    0.97  2024-03-01  \n",
       "6    0.04  2024-03-01  \n",
       "7    0.48  2024-03-01  \n",
       "8    2.79  2024-03-01  \n",
       "9    0.13  2024-03-01  \n",
       "10   0.02  2024-03-01  \n",
       "11   0.02  2024-03-01  "
      ]
     },
     "execution_count": 24,
     "metadata": {},
     "output_type": "execute_result"
    }
   ],
   "source": [
    "sql_cm63_hq_toa = pd.read_sql_query(\"\"\"\n",
    "SELECT * FROM cm63_hq_mar2024_toa\n",
    "\"\"\", conn)\n",
    "df_cm63_hq_toa = pd.DataFrame(sql_cm63_hq_toa)\n",
    "df_cm63_hq_toa"
   ]
  },
  {
   "cell_type": "markdown",
   "id": "cc820343",
   "metadata": {},
   "source": [
    "# Upload `pd.DataFrame()` to sql Database Without `SQLAlchemy`\n",
    "\n",
    "- Strongly recomend using `SQLAlchemy`\n",
    "- Use the \"native\" way `INSERT INTO () VALUES (),()...();` if use `psycopg2`\n",
    "- Escape characters is causing issues. So it's strongly recommend to work on text-based columns in `cursor.execute(\"\"\"sql query\"\"\")` over in `pandas`"
   ]
  },
  {
   "cell_type": "markdown",
   "id": "89da840c",
   "metadata": {},
   "source": [
    "## Create Dataframe in `pandas`"
   ]
  },
  {
   "cell_type": "code",
   "execution_count": 36,
   "id": "36ac3bf3",
   "metadata": {},
   "outputs": [
    {
     "name": "stderr",
     "output_type": "stream",
     "text": [
      "/var/folders/n9/04pbbq7530z_9231l9_lbz740000gn/T/ipykernel_89663/4220445647.py:3: UserWarning: pandas only supports SQLAlchemy connectable (engine/connection) or database string URI or sqlite3 DBAPI2 connection. Other DBAPI2 objects are not tested. Please consider using SQLAlchemy.\n",
      "  pd.read_sql_query(\n"
     ]
    }
   ],
   "source": [
    "agency_headcount=\\\n",
    "pd.DataFrame(\n",
    "    pd.read_sql_query(\n",
    "        \"\"\"\n",
    "        SELECT AGYSUBT, T1.AGYSUB, COUNT(T1.AGYSUB) AS HEADCOUNT, AVG_TENURE \n",
    "        FROM FACT T1\n",
    "        JOIN AGENCY T2 ON T1.AGYSUB = T2.AGYSUB\n",
    "        JOIN (SELECT AGYSUB, ROUND(AVG(LOS),2) AS AVG_TENURE FROM FACT GROUP BY AGYSUB) T3 ON T1.AGYSUB = T3.AGYSUB\n",
    "        GROUP BY AGYSUBT, T1.AGYSUB, AVG_TENURE \n",
    "        ORDER BY HEADCOUNT DESC;\n",
    "        \"\"\",\n",
    "        conn\n",
    "    )\n",
    ")"
   ]
  },
  {
   "cell_type": "code",
   "execution_count": 179,
   "id": "41fe416e",
   "metadata": {},
   "outputs": [],
   "source": [
    "agency_headcount_copy = agency_headcount.copy(deep=True)"
   ]
  },
  {
   "cell_type": "markdown",
   "id": "27726455",
   "metadata": {},
   "source": [
    "## Escaping Special Character is the Problem"
   ]
  },
  {
   "cell_type": "code",
   "execution_count": 180,
   "id": "459ca3a7",
   "metadata": {},
   "outputs": [
    {
     "name": "stdout",
     "output_type": "stream",
     "text": [
      "167 DLOW-OFFICE OF WORKERS' COMPENSATION PROGRAMS\n",
      "DLOW-OFFICE OF WORKERS COMPENSATION PROGRAMS\n",
      "434 DLWB-WOMEN'S BUREAU\n",
      "DLWB-WOMENS BUREAU\n",
      "489 BH00-COMMISSION FOR THE PRESERVATION OF AMERICA'S HERITAGE ABROAD\n",
      "BH00-COMMISSION FOR THE PRESERVATION OF AMERICAS HERITAGE ABROAD\n"
     ]
    }
   ],
   "source": [
    "# for now, have to remove apostrophe ' because cannot escape it in the .execute() block\n",
    "for idx,row in agency_headcount_copy.iterrows():\n",
    "    if \"'\" in row['agysubt']:\n",
    "        print(idx,row['agysubt'])\n",
    "        print(row['agysubt'].replace(\"'\",\"\"))\n",
    "        agency_headcount_copy.loc[idx,'agysubt'] = row['agysubt'].replace(\"'\",\"\")"
   ]
  },
  {
   "cell_type": "code",
   "execution_count": 174,
   "id": "f126fb72",
   "metadata": {},
   "outputs": [],
   "source": [
    "for idx,row in agency_headcount_copy.iterrows():\n",
    "    if \"'\" in row['agysubt']:\n",
    "        print(idx,row['agysubt'])"
   ]
  },
  {
   "cell_type": "markdown",
   "id": "b64b014e",
   "metadata": {},
   "source": [
    "## Convert Dataframe to a List of Tuples"
   ]
  },
  {
   "cell_type": "code",
   "execution_count": 41,
   "id": "b599a3d4",
   "metadata": {},
   "outputs": [],
   "source": [
    "import numpy as np"
   ]
  },
  {
   "cell_type": "code",
   "execution_count": 45,
   "id": "0cae2eae",
   "metadata": {},
   "outputs": [
    {
     "data": {
      "text/plain": [
       "'agysubt,agysub,headcount,avg_tenure'"
      ]
     },
     "execution_count": 45,
     "metadata": {},
     "output_type": "execute_result"
    }
   ],
   "source": [
    "cols=','.join(list(agency_headcount.columns)) \n",
    "cols"
   ]
  },
  {
   "cell_type": "code",
   "execution_count": 175,
   "id": "465765df",
   "metadata": {},
   "outputs": [
    {
     "data": {
      "text/plain": [
       "[('VATA-VETERANS HEALTH ADMINISTRATION', 'VATA', 432908, 8.92),\n",
       " ('TR93-INTERNAL REVENUE SERVICE', 'TR93', 93937, 12.57),\n",
       " ('AF1M-AIR FORCE MATERIEL COMMAND', 'AF1M', 70084, 11.76),\n",
       " ('HSBD-CUSTOMS AND BORDER PROTECTION', 'HSBD', 65268, 13.88),\n",
       " ('HSBC-TRANSPORTATION SECURITY ADMINISTRATION', 'HSBC', 62788, 10.06)]"
      ]
     },
     "execution_count": 175,
     "metadata": {},
     "output_type": "execute_result"
    }
   ],
   "source": [
    "agency_headcount_values_tuple=[tuple(row) for row in agency_headcount_copy.to_numpy()]\n",
    "agency_headcount_values_tuple[:5]"
   ]
  },
  {
   "cell_type": "markdown",
   "id": "54e589f9",
   "metadata": {},
   "source": [
    "## `INSERT INTO` Values Row by Row"
   ]
  },
  {
   "cell_type": "code",
   "execution_count": 176,
   "id": "50153a4f",
   "metadata": {},
   "outputs": [
    {
     "name": "stdout",
     "output_type": "stream",
     "text": [
      "\n",
      "DROP TABLE IF EXISTS agency_headcount;\n",
      "\n",
      "CREATE TABLE agency_headcount (\n",
      "agysubt VARCHAR(100),\n",
      "agysub VARCHAR(5),\n",
      "headcount INTEGER,\n",
      "avg_tenure NUMERIC(4,2)\n",
      ");\n",
      "\n",
      "INSERT INTO agency_headcount (agysubt,agysub,headcount,avg_tenure) \n",
      "VALUES \n",
      "('VATA-VETERANS HEALTH ADMINISTRATION', 'VATA', 432908, 8.92), ('TR93-INTERNAL REVENUE SERVICE', 'TR93', 93937, 12.57), ('AF1M-AIR FORCE MATERIEL COMMAND', 'AF1M', 70084, 11.76), ('HSBD-CUSTOMS AND BORDER PROTECTION', 'HSBD', 65268, 13.88), ('HSBC-TRANSPORTATION \n",
      "\n",
      "...\n",
      "\n",
      " 1, 1.2), ('DA00-DELTA REGIONAL AUTHORITY', 'DA00', 1, 2.0), ('AG15-RURAL UTILITIES SERVICE', 'AG15', 1, 31.0), ('ARBA-U.S. ARMY INSTALLATION MANAGEMENT COMMAND', 'ARBA', 1, 13.3), ('OP00-Office of Pandemic Preparedness and Response Policy', 'OP00', 1, 0.6), ('HUVV-OFFICE OF DISASTER MANAGEMENT AND NATIONAL SECURITY', 'HUVV', 1, 15.9), ('AF3G-AIR FORCE ELEMENTS, NATO', 'AF3G', 1, 21.2);\n",
      "\n",
      "COPY agency_headcount TO '/Users/tiangeng/Public/data/agency_headcount_202403.csv'\n",
      "DELIMITER ',' CSV HEADER;\n",
      "\n"
     ]
    }
   ],
   "source": [
    "query_insert_info = f\"\"\"\n",
    "DROP TABLE IF EXISTS agency_headcount;\n",
    "\n",
    "CREATE TABLE agency_headcount (\n",
    "agysubt VARCHAR(100),\n",
    "agysub VARCHAR(5),\n",
    "headcount INTEGER,\n",
    "avg_tenure NUMERIC(4,2)\n",
    ");\n",
    "\n",
    "INSERT INTO agency_headcount ({cols}) \n",
    "VALUES \n",
    "{str(agency_headcount_values_tuple).lstrip('[').rstrip(']')};\n",
    "\n",
    "COPY agency_headcount TO '/Users/tiangeng/Public/data/agency_headcount_202403.csv'\n",
    "DELIMITER ',' CSV HEADER;\n",
    "\"\"\"\n",
    "print(query_insert_info[:500])\n",
    "print(\"\\n...\\n\")\n",
    "print(query_insert_info[-500:])"
   ]
  },
  {
   "cell_type": "code",
   "execution_count": 178,
   "id": "f79cf4dc",
   "metadata": {},
   "outputs": [],
   "source": [
    "# Open a cursor to perform database operations\n",
    "cur = conn.cursor()\n",
    "# Query and save to a python object then print the object\n",
    "# Multiple queries are ok\n",
    "# If aborted, try conn.rollback() or re-establish the connection\n",
    "cur.execute(query_insert_info)\n",
    "# Make the changes to the database\n",
    "# Refresh tables in pgadmin, updates have been committed\n",
    "conn.commit()"
   ]
  },
  {
   "cell_type": "code",
   "execution_count": 177,
   "id": "f896e8e8",
   "metadata": {},
   "outputs": [],
   "source": [
    "conn.rollback()"
   ]
  },
  {
   "cell_type": "markdown",
   "id": "7421fa73",
   "metadata": {},
   "source": [
    "## `df.to_sql()` Won't Work Without ``SQLAlchemy``"
   ]
  },
  {
   "cell_type": "code",
   "execution_count": 39,
   "id": "e856159a",
   "metadata": {},
   "outputs": [
    {
     "name": "stderr",
     "output_type": "stream",
     "text": [
      "/var/folders/n9/04pbbq7530z_9231l9_lbz740000gn/T/ipykernel_89663/680797493.py:1: UserWarning: pandas only supports SQLAlchemy connectable (engine/connection) or database string URI or sqlite3 DBAPI2 connection. Other DBAPI2 objects are not tested. Please consider using SQLAlchemy.\n",
      "  agency_headcount.to_sql(name=username,\n"
     ]
    },
    {
     "ename": "DatabaseError",
     "evalue": "Execution failed on sql '\n        SELECT\n            name\n        FROM\n            sqlite_master\n        WHERE\n            type IN ('table', 'view')\n            AND name=?;\n        ': syntax error at or near \";\"\nLINE 8:             AND name=?;\n                              ^\n",
     "output_type": "error",
     "traceback": [
      "\u001b[0;31m---------------------------------------------------------------------------\u001b[0m",
      "\u001b[0;31mSyntaxError\u001b[0m                               Traceback (most recent call last)",
      "File \u001b[0;32m~/opt/anaconda3/envs/py312/lib/python3.12/site-packages/pandas/io/sql.py:2262\u001b[0m, in \u001b[0;36mSQLiteDatabase.execute\u001b[0;34m(self, sql, params)\u001b[0m\n\u001b[1;32m   2261\u001b[0m \u001b[38;5;28;01mtry\u001b[39;00m:\n\u001b[0;32m-> 2262\u001b[0m     cur\u001b[38;5;241m.\u001b[39mexecute(sql, \u001b[38;5;241m*\u001b[39margs)\n\u001b[1;32m   2263\u001b[0m     \u001b[38;5;28;01mreturn\u001b[39;00m cur\n",
      "\u001b[0;31mSyntaxError\u001b[0m: syntax error at or near \";\"\nLINE 8:             AND name=?;\n                              ^\n",
      "\nThe above exception was the direct cause of the following exception:\n",
      "\u001b[0;31mDatabaseError\u001b[0m                             Traceback (most recent call last)",
      "Cell \u001b[0;32mIn[39], line 1\u001b[0m\n\u001b[0;32m----> 1\u001b[0m agency_headcount\u001b[38;5;241m.\u001b[39mto_sql(name\u001b[38;5;241m=\u001b[39musername,\n\u001b[1;32m      2\u001b[0m                         con\u001b[38;5;241m=\u001b[39mconn,\n\u001b[1;32m      3\u001b[0m                         if_exists\u001b[38;5;241m=\u001b[39m\u001b[38;5;124m'\u001b[39m\u001b[38;5;124mreplace\u001b[39m\u001b[38;5;124m'\u001b[39m,index\u001b[38;5;241m=\u001b[39m\u001b[38;5;28;01mFalse\u001b[39;00m)\n",
      "File \u001b[0;32m~/opt/anaconda3/envs/py312/lib/python3.12/site-packages/pandas/util/_decorators.py:333\u001b[0m, in \u001b[0;36mdeprecate_nonkeyword_arguments.<locals>.decorate.<locals>.wrapper\u001b[0;34m(*args, **kwargs)\u001b[0m\n\u001b[1;32m    327\u001b[0m \u001b[38;5;28;01mif\u001b[39;00m \u001b[38;5;28mlen\u001b[39m(args) \u001b[38;5;241m>\u001b[39m num_allow_args:\n\u001b[1;32m    328\u001b[0m     warnings\u001b[38;5;241m.\u001b[39mwarn(\n\u001b[1;32m    329\u001b[0m         msg\u001b[38;5;241m.\u001b[39mformat(arguments\u001b[38;5;241m=\u001b[39m_format_argument_list(allow_args)),\n\u001b[1;32m    330\u001b[0m         \u001b[38;5;167;01mFutureWarning\u001b[39;00m,\n\u001b[1;32m    331\u001b[0m         stacklevel\u001b[38;5;241m=\u001b[39mfind_stack_level(),\n\u001b[1;32m    332\u001b[0m     )\n\u001b[0;32m--> 333\u001b[0m \u001b[38;5;28;01mreturn\u001b[39;00m func(\u001b[38;5;241m*\u001b[39margs, \u001b[38;5;241m*\u001b[39m\u001b[38;5;241m*\u001b[39mkwargs)\n",
      "File \u001b[0;32m~/opt/anaconda3/envs/py312/lib/python3.12/site-packages/pandas/core/generic.py:3008\u001b[0m, in \u001b[0;36mNDFrame.to_sql\u001b[0;34m(self, name, con, schema, if_exists, index, index_label, chunksize, dtype, method)\u001b[0m\n\u001b[1;32m   2813\u001b[0m \u001b[38;5;250m\u001b[39m\u001b[38;5;124;03m\"\"\"\u001b[39;00m\n\u001b[1;32m   2814\u001b[0m \u001b[38;5;124;03mWrite records stored in a DataFrame to a SQL database.\u001b[39;00m\n\u001b[1;32m   2815\u001b[0m \n\u001b[0;32m   (...)\u001b[0m\n\u001b[1;32m   3004\u001b[0m \u001b[38;5;124;03m[(1,), (None,), (2,)]\u001b[39;00m\n\u001b[1;32m   3005\u001b[0m \u001b[38;5;124;03m\"\"\"\u001b[39;00m  \u001b[38;5;66;03m# noqa: E501\u001b[39;00m\n\u001b[1;32m   3006\u001b[0m \u001b[38;5;28;01mfrom\u001b[39;00m \u001b[38;5;21;01mpandas\u001b[39;00m\u001b[38;5;21;01m.\u001b[39;00m\u001b[38;5;21;01mio\u001b[39;00m \u001b[38;5;28;01mimport\u001b[39;00m sql\n\u001b[0;32m-> 3008\u001b[0m \u001b[38;5;28;01mreturn\u001b[39;00m sql\u001b[38;5;241m.\u001b[39mto_sql(\n\u001b[1;32m   3009\u001b[0m     \u001b[38;5;28mself\u001b[39m,\n\u001b[1;32m   3010\u001b[0m     name,\n\u001b[1;32m   3011\u001b[0m     con,\n\u001b[1;32m   3012\u001b[0m     schema\u001b[38;5;241m=\u001b[39mschema,\n\u001b[1;32m   3013\u001b[0m     if_exists\u001b[38;5;241m=\u001b[39mif_exists,\n\u001b[1;32m   3014\u001b[0m     index\u001b[38;5;241m=\u001b[39mindex,\n\u001b[1;32m   3015\u001b[0m     index_label\u001b[38;5;241m=\u001b[39mindex_label,\n\u001b[1;32m   3016\u001b[0m     chunksize\u001b[38;5;241m=\u001b[39mchunksize,\n\u001b[1;32m   3017\u001b[0m     dtype\u001b[38;5;241m=\u001b[39mdtype,\n\u001b[1;32m   3018\u001b[0m     method\u001b[38;5;241m=\u001b[39mmethod,\n\u001b[1;32m   3019\u001b[0m )\n",
      "File \u001b[0;32m~/opt/anaconda3/envs/py312/lib/python3.12/site-packages/pandas/io/sql.py:788\u001b[0m, in \u001b[0;36mto_sql\u001b[0;34m(frame, name, con, schema, if_exists, index, index_label, chunksize, dtype, method, engine, **engine_kwargs)\u001b[0m\n\u001b[1;32m    783\u001b[0m     \u001b[38;5;28;01mraise\u001b[39;00m \u001b[38;5;167;01mNotImplementedError\u001b[39;00m(\n\u001b[1;32m    784\u001b[0m         \u001b[38;5;124m\"\u001b[39m\u001b[38;5;124m'\u001b[39m\u001b[38;5;124mframe\u001b[39m\u001b[38;5;124m'\u001b[39m\u001b[38;5;124m argument should be either a Series or a DataFrame\u001b[39m\u001b[38;5;124m\"\u001b[39m\n\u001b[1;32m    785\u001b[0m     )\n\u001b[1;32m    787\u001b[0m \u001b[38;5;28;01mwith\u001b[39;00m pandasSQL_builder(con, schema\u001b[38;5;241m=\u001b[39mschema, need_transaction\u001b[38;5;241m=\u001b[39m\u001b[38;5;28;01mTrue\u001b[39;00m) \u001b[38;5;28;01mas\u001b[39;00m pandas_sql:\n\u001b[0;32m--> 788\u001b[0m     \u001b[38;5;28;01mreturn\u001b[39;00m pandas_sql\u001b[38;5;241m.\u001b[39mto_sql(\n\u001b[1;32m    789\u001b[0m         frame,\n\u001b[1;32m    790\u001b[0m         name,\n\u001b[1;32m    791\u001b[0m         if_exists\u001b[38;5;241m=\u001b[39mif_exists,\n\u001b[1;32m    792\u001b[0m         index\u001b[38;5;241m=\u001b[39mindex,\n\u001b[1;32m    793\u001b[0m         index_label\u001b[38;5;241m=\u001b[39mindex_label,\n\u001b[1;32m    794\u001b[0m         schema\u001b[38;5;241m=\u001b[39mschema,\n\u001b[1;32m    795\u001b[0m         chunksize\u001b[38;5;241m=\u001b[39mchunksize,\n\u001b[1;32m    796\u001b[0m         dtype\u001b[38;5;241m=\u001b[39mdtype,\n\u001b[1;32m    797\u001b[0m         method\u001b[38;5;241m=\u001b[39mmethod,\n\u001b[1;32m    798\u001b[0m         engine\u001b[38;5;241m=\u001b[39mengine,\n\u001b[1;32m    799\u001b[0m         \u001b[38;5;241m*\u001b[39m\u001b[38;5;241m*\u001b[39mengine_kwargs,\n\u001b[1;32m    800\u001b[0m     )\n",
      "File \u001b[0;32m~/opt/anaconda3/envs/py312/lib/python3.12/site-packages/pandas/io/sql.py:2438\u001b[0m, in \u001b[0;36mSQLiteDatabase.to_sql\u001b[0;34m(self, frame, name, if_exists, index, index_label, schema, chunksize, dtype, method, engine, **engine_kwargs)\u001b[0m\n\u001b[1;32m   2427\u001b[0m             \u001b[38;5;28;01mraise\u001b[39;00m \u001b[38;5;167;01mValueError\u001b[39;00m(\u001b[38;5;124mf\u001b[39m\u001b[38;5;124m\"\u001b[39m\u001b[38;5;132;01m{\u001b[39;00mcol\u001b[38;5;132;01m}\u001b[39;00m\u001b[38;5;124m (\u001b[39m\u001b[38;5;132;01m{\u001b[39;00mmy_type\u001b[38;5;132;01m}\u001b[39;00m\u001b[38;5;124m) not a string\u001b[39m\u001b[38;5;124m\"\u001b[39m)\n\u001b[1;32m   2429\u001b[0m table \u001b[38;5;241m=\u001b[39m SQLiteTable(\n\u001b[1;32m   2430\u001b[0m     name,\n\u001b[1;32m   2431\u001b[0m     \u001b[38;5;28mself\u001b[39m,\n\u001b[0;32m   (...)\u001b[0m\n\u001b[1;32m   2436\u001b[0m     dtype\u001b[38;5;241m=\u001b[39mdtype,\n\u001b[1;32m   2437\u001b[0m )\n\u001b[0;32m-> 2438\u001b[0m table\u001b[38;5;241m.\u001b[39mcreate()\n\u001b[1;32m   2439\u001b[0m \u001b[38;5;28;01mreturn\u001b[39;00m table\u001b[38;5;241m.\u001b[39minsert(chunksize, method)\n",
      "File \u001b[0;32m~/opt/anaconda3/envs/py312/lib/python3.12/site-packages/pandas/io/sql.py:925\u001b[0m, in \u001b[0;36mSQLTable.create\u001b[0;34m(self)\u001b[0m\n\u001b[1;32m    924\u001b[0m \u001b[38;5;28;01mdef\u001b[39;00m \u001b[38;5;21mcreate\u001b[39m(\u001b[38;5;28mself\u001b[39m) \u001b[38;5;241m-\u001b[39m\u001b[38;5;241m>\u001b[39m \u001b[38;5;28;01mNone\u001b[39;00m:\n\u001b[0;32m--> 925\u001b[0m     \u001b[38;5;28;01mif\u001b[39;00m \u001b[38;5;28mself\u001b[39m\u001b[38;5;241m.\u001b[39mexists():\n\u001b[1;32m    926\u001b[0m         \u001b[38;5;28;01mif\u001b[39;00m \u001b[38;5;28mself\u001b[39m\u001b[38;5;241m.\u001b[39mif_exists \u001b[38;5;241m==\u001b[39m \u001b[38;5;124m\"\u001b[39m\u001b[38;5;124mfail\u001b[39m\u001b[38;5;124m\"\u001b[39m:\n\u001b[1;32m    927\u001b[0m             \u001b[38;5;28;01mraise\u001b[39;00m \u001b[38;5;167;01mValueError\u001b[39;00m(\u001b[38;5;124mf\u001b[39m\u001b[38;5;124m\"\u001b[39m\u001b[38;5;124mTable \u001b[39m\u001b[38;5;124m'\u001b[39m\u001b[38;5;132;01m{\u001b[39;00m\u001b[38;5;28mself\u001b[39m\u001b[38;5;241m.\u001b[39mname\u001b[38;5;132;01m}\u001b[39;00m\u001b[38;5;124m'\u001b[39m\u001b[38;5;124m already exists.\u001b[39m\u001b[38;5;124m\"\u001b[39m)\n",
      "File \u001b[0;32m~/opt/anaconda3/envs/py312/lib/python3.12/site-packages/pandas/io/sql.py:911\u001b[0m, in \u001b[0;36mSQLTable.exists\u001b[0;34m(self)\u001b[0m\n\u001b[1;32m    910\u001b[0m \u001b[38;5;28;01mdef\u001b[39;00m \u001b[38;5;21mexists\u001b[39m(\u001b[38;5;28mself\u001b[39m):\n\u001b[0;32m--> 911\u001b[0m     \u001b[38;5;28;01mreturn\u001b[39;00m \u001b[38;5;28mself\u001b[39m\u001b[38;5;241m.\u001b[39mpd_sql\u001b[38;5;241m.\u001b[39mhas_table(\u001b[38;5;28mself\u001b[39m\u001b[38;5;241m.\u001b[39mname, \u001b[38;5;28mself\u001b[39m\u001b[38;5;241m.\u001b[39mschema)\n",
      "File \u001b[0;32m~/opt/anaconda3/envs/py312/lib/python3.12/site-packages/pandas/io/sql.py:2453\u001b[0m, in \u001b[0;36mSQLiteDatabase.has_table\u001b[0;34m(self, name, schema)\u001b[0m\n\u001b[1;32m   2442\u001b[0m wld \u001b[38;5;241m=\u001b[39m \u001b[38;5;124m\"\u001b[39m\u001b[38;5;124m?\u001b[39m\u001b[38;5;124m\"\u001b[39m\n\u001b[1;32m   2443\u001b[0m query \u001b[38;5;241m=\u001b[39m \u001b[38;5;124mf\u001b[39m\u001b[38;5;124m\"\"\"\u001b[39m\n\u001b[1;32m   2444\u001b[0m \u001b[38;5;124mSELECT\u001b[39m\n\u001b[1;32m   2445\u001b[0m \u001b[38;5;124m    name\u001b[39m\n\u001b[0;32m   (...)\u001b[0m\n\u001b[1;32m   2450\u001b[0m \u001b[38;5;124m    AND name=\u001b[39m\u001b[38;5;132;01m{\u001b[39;00mwld\u001b[38;5;132;01m}\u001b[39;00m\u001b[38;5;124m;\u001b[39m\n\u001b[1;32m   2451\u001b[0m \u001b[38;5;124m\u001b[39m\u001b[38;5;124m\"\"\"\u001b[39m\n\u001b[0;32m-> 2453\u001b[0m \u001b[38;5;28;01mreturn\u001b[39;00m \u001b[38;5;28mlen\u001b[39m(\u001b[38;5;28mself\u001b[39m\u001b[38;5;241m.\u001b[39mexecute(query, [name])\u001b[38;5;241m.\u001b[39mfetchall()) \u001b[38;5;241m>\u001b[39m \u001b[38;5;241m0\u001b[39m\n",
      "File \u001b[0;32m~/opt/anaconda3/envs/py312/lib/python3.12/site-packages/pandas/io/sql.py:2274\u001b[0m, in \u001b[0;36mSQLiteDatabase.execute\u001b[0;34m(self, sql, params)\u001b[0m\n\u001b[1;32m   2271\u001b[0m     \u001b[38;5;28;01mraise\u001b[39;00m ex \u001b[38;5;28;01mfrom\u001b[39;00m \u001b[38;5;21;01minner_exc\u001b[39;00m\n\u001b[1;32m   2273\u001b[0m ex \u001b[38;5;241m=\u001b[39m DatabaseError(\u001b[38;5;124mf\u001b[39m\u001b[38;5;124m\"\u001b[39m\u001b[38;5;124mExecution failed on sql \u001b[39m\u001b[38;5;124m'\u001b[39m\u001b[38;5;132;01m{\u001b[39;00msql\u001b[38;5;132;01m}\u001b[39;00m\u001b[38;5;124m'\u001b[39m\u001b[38;5;124m: \u001b[39m\u001b[38;5;132;01m{\u001b[39;00mexc\u001b[38;5;132;01m}\u001b[39;00m\u001b[38;5;124m\"\u001b[39m)\n\u001b[0;32m-> 2274\u001b[0m \u001b[38;5;28;01mraise\u001b[39;00m ex \u001b[38;5;28;01mfrom\u001b[39;00m \u001b[38;5;21;01mexc\u001b[39;00m\n",
      "\u001b[0;31mDatabaseError\u001b[0m: Execution failed on sql '\n        SELECT\n            name\n        FROM\n            sqlite_master\n        WHERE\n            type IN ('table', 'view')\n            AND name=?;\n        ': syntax error at or near \";\"\nLINE 8:             AND name=?;\n                              ^\n"
     ]
    }
   ],
   "source": [
    "# doesn't work without SQLAlchemy\n",
    "agency_headcount.to_sql(name='agency_headcount',\n",
    "                        con=conn,\n",
    "                        if_exists='replace',\n",
    "                        index=False)"
   ]
  },
  {
   "cell_type": "code",
   "execution_count": 181,
   "id": "cf6bb683",
   "metadata": {},
   "outputs": [],
   "source": [
    "cur.close()\n",
    "conn.close()"
   ]
  }
 ],
 "metadata": {
  "hide_input": false,
  "kernelspec": {
   "display_name": "python3.12.1",
   "language": "python",
   "name": "py312"
  },
  "language_info": {
   "codemirror_mode": {
    "name": "ipython",
    "version": 3
   },
   "file_extension": ".py",
   "mimetype": "text/x-python",
   "name": "python",
   "nbconvert_exporter": "python",
   "pygments_lexer": "ipython3",
   "version": "3.12.2"
  },
  "toc": {
   "base_numbering": 1,
   "nav_menu": {},
   "number_sections": false,
   "sideBar": true,
   "skip_h1_title": false,
   "title_cell": "Table of Contents",
   "title_sidebar": "Contents",
   "toc_cell": false,
   "toc_position": {
    "height": "calc(100% - 180px)",
    "left": "10px",
    "top": "150px",
    "width": "204px"
   },
   "toc_section_display": true,
   "toc_window_display": true
  },
  "varInspector": {
   "cols": {
    "lenName": 16,
    "lenType": 16,
    "lenVar": 40
   },
   "kernels_config": {
    "python": {
     "delete_cmd_postfix": "",
     "delete_cmd_prefix": "del ",
     "library": "var_list.py",
     "varRefreshCmd": "print(var_dic_list())"
    },
    "r": {
     "delete_cmd_postfix": ") ",
     "delete_cmd_prefix": "rm(",
     "library": "var_list.r",
     "varRefreshCmd": "cat(var_dic_list()) "
    }
   },
   "types_to_exclude": [
    "module",
    "function",
    "builtin_function_or_method",
    "instance",
    "_Feature"
   ],
   "window_display": false
  }
 },
 "nbformat": 4,
 "nbformat_minor": 5
}
