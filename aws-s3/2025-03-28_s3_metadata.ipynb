{
 "cells": [
  {
   "cell_type": "markdown",
   "id": "3581a235",
   "metadata": {},
   "source": [
    "# Establish S3 Connection"
   ]
  },
  {
   "cell_type": "code",
   "execution_count": 1,
   "id": "8ef24a57",
   "metadata": {},
   "outputs": [],
   "source": [
    "import json # read in dictionary format credentials\n",
    "import boto3 # connect to aws s3"
   ]
  },
  {
   "cell_type": "code",
   "execution_count": 2,
   "id": "1c133b14",
   "metadata": {},
   "outputs": [],
   "source": [
    "import numpy as np\n",
    "import pandas as pd\n",
    "import time as tm"
   ]
  },
  {
   "cell_type": "markdown",
   "id": "9b9aa326",
   "metadata": {},
   "source": [
    "## Import Credentials"
   ]
  },
  {
   "cell_type": "code",
   "execution_count": 3,
   "id": "ad6d7ccc",
   "metadata": {},
   "outputs": [],
   "source": [
    "with open(\"aws_credential.txt\", 'r') as file:\n",
    "    aws_credential=json.load(file)"
   ]
  },
  {
   "cell_type": "markdown",
   "id": "135a4243",
   "metadata": {},
   "source": [
    "## Connect w/ Credentials"
   ]
  },
  {
   "cell_type": "code",
   "execution_count": 4,
   "id": "69de1423",
   "metadata": {},
   "outputs": [],
   "source": [
    "s3=boto3.Session(\n",
    "    profile_name = None, \n",
    "    region_name = 'us-east-2').client(\n",
    "    's3',\n",
    "    aws_access_key_id=aws_credential['access_key'],\n",
    "    aws_secret_access_key=aws_credential['secret_key'])"
   ]
  },
  {
   "cell_type": "markdown",
   "id": "68ff3aba",
   "metadata": {},
   "source": [
    "# Access S3 Objects"
   ]
  },
  {
   "cell_type": "code",
   "execution_count": 5,
   "id": "d0c2f78e",
   "metadata": {},
   "outputs": [
    {
     "name": "stdout",
     "output_type": "stream",
     "text": [
      "The bucket currently has 85 objects.\n"
     ]
    }
   ],
   "source": [
    "file_counts=len(s3.list_objects(Bucket = aws_credential['bucket'])['Contents'])\n",
    "print(f'The bucket currently has {file_counts} objects.')"
   ]
  },
  {
   "cell_type": "markdown",
   "id": "0c583b76",
   "metadata": {},
   "source": [
    "## Meta Data into Lists"
   ]
  },
  {
   "cell_type": "code",
   "execution_count": 6,
   "id": "7ae8962a",
   "metadata": {},
   "outputs": [],
   "source": [
    "file_contents=s3.list_objects(Bucket = aws_credential['bucket'])['Contents']"
   ]
  },
  {
   "cell_type": "code",
   "execution_count": 7,
   "id": "69966d81",
   "metadata": {},
   "outputs": [
    {
     "data": {
      "text/plain": [
       "['ChecksumAlgorithm',\n",
       " 'Size',\n",
       " 'Owner',\n",
       " 'Key',\n",
       " 'LastModified',\n",
       " 'ETag',\n",
       " 'StorageClass']"
      ]
     },
     "execution_count": 7,
     "metadata": {},
     "output_type": "execute_result"
    }
   ],
   "source": [
    "list({k for dictionary in file_contents for k in dictionary.keys()})"
   ]
  },
  {
   "cell_type": "code",
   "execution_count": 8,
   "id": "3b15fd64",
   "metadata": {},
   "outputs": [],
   "source": [
    "object_list=[dictionary['Key'] for dictionary in file_contents]"
   ]
  },
  {
   "cell_type": "code",
   "execution_count": 9,
   "id": "68045b0a",
   "metadata": {},
   "outputs": [
    {
     "data": {
      "text/plain": [
       "['messy_data/', 'resource/']"
      ]
     },
     "execution_count": 9,
     "metadata": {},
     "output_type": "execute_result"
    }
   ],
   "source": [
    "# folders created in the bucket\n",
    "[folder for folder in object_list if folder.endswith('/')]"
   ]
  },
  {
   "cell_type": "markdown",
   "id": "c8fab91a",
   "metadata": {},
   "source": [
    "## Create Data Catalog"
   ]
  },
  {
   "cell_type": "code",
   "execution_count": 10,
   "id": "7e979539",
   "metadata": {},
   "outputs": [],
   "source": [
    "# 'LastModified': datetime.datetime(2025, 3, 8, 4, 27, 27, tzinfo=tzutc())\n",
    "modified_time_list = [dictionary['LastModified'].strftime(\"%Y-%m-%d, %H:%M %Z\") for dictionary in file_contents]"
   ]
  },
  {
   "cell_type": "code",
   "execution_count": 11,
   "id": "8fd34a27",
   "metadata": {},
   "outputs": [
    {
     "data": {
      "text/plain": [
       "['2025-03-08, 04:27 UTC',\n",
       " '2025-03-08, 04:28 UTC',\n",
       " '2024-03-13, 22:10 UTC',\n",
       " '2024-03-13, 22:10 UTC',\n",
       " '2024-03-13, 22:10 UTC']"
      ]
     },
     "execution_count": 11,
     "metadata": {},
     "output_type": "execute_result"
    }
   ],
   "source": [
    "modified_time_list[:5]"
   ]
  },
  {
   "cell_type": "code",
   "execution_count": 12,
   "id": "7922985f",
   "metadata": {},
   "outputs": [],
   "source": [
    "size_list = [dictionary['Size'] for dictionary in file_contents]"
   ]
  },
  {
   "cell_type": "code",
   "execution_count": 13,
   "id": "57cdbe68",
   "metadata": {},
   "outputs": [],
   "source": [
    "bucket_catalog=pd.DataFrame(data = {'object':object_list,\n",
    "                     'size(KB)':np.round(np.array(size_list)/1024,2),\n",
    "                     'modified':modified_time_list}).sort_values(by = ['modified','size(KB)'])"
   ]
  },
  {
   "cell_type": "code",
   "execution_count": 14,
   "id": "4b0737e3",
   "metadata": {},
   "outputs": [
    {
     "data": {
      "text/html": [
       "<div>\n",
       "<style scoped>\n",
       "    .dataframe tbody tr th:only-of-type {\n",
       "        vertical-align: middle;\n",
       "    }\n",
       "\n",
       "    .dataframe tbody tr th {\n",
       "        vertical-align: top;\n",
       "    }\n",
       "\n",
       "    .dataframe thead th {\n",
       "        text-align: right;\n",
       "    }\n",
       "</style>\n",
       "<table border=\"1\" class=\"dataframe\">\n",
       "  <thead>\n",
       "    <tr style=\"text-align: right;\">\n",
       "      <th></th>\n",
       "      <th>object</th>\n",
       "      <th>size(KB)</th>\n",
       "      <th>modified</th>\n",
       "    </tr>\n",
       "  </thead>\n",
       "  <tbody>\n",
       "    <tr>\n",
       "      <th>43</th>\n",
       "      <td>opm_202309/DTdate.txt</td>\n",
       "      <td>0.04</td>\n",
       "      <td>2024-03-13, 22:05 UTC</td>\n",
       "    </tr>\n",
       "    <tr>\n",
       "      <th>45</th>\n",
       "      <td>opm_202309/DTgsegrd.txt</td>\n",
       "      <td>0.07</td>\n",
       "      <td>2024-03-13, 22:05 UTC</td>\n",
       "    </tr>\n",
       "  </tbody>\n",
       "</table>\n",
       "</div>"
      ],
      "text/plain": [
       "                     object  size(KB)               modified\n",
       "43    opm_202309/DTdate.txt      0.04  2024-03-13, 22:05 UTC\n",
       "45  opm_202309/DTgsegrd.txt      0.07  2024-03-13, 22:05 UTC"
      ]
     },
     "execution_count": 14,
     "metadata": {},
     "output_type": "execute_result"
    }
   ],
   "source": [
    "bucket_catalog.head(2)"
   ]
  }
 ],
 "metadata": {
  "hide_input": false,
  "kernelspec": {
   "display_name": "py-3-12-3-preview",
   "language": "python",
   "name": "python-312-preview"
  },
  "language_info": {
   "codemirror_mode": {
    "name": "ipython",
    "version": 3
   },
   "file_extension": ".py",
   "mimetype": "text/x-python",
   "name": "python",
   "nbconvert_exporter": "python",
   "pygments_lexer": "ipython3",
   "version": "3.12.3"
  },
  "toc": {
   "base_numbering": 1,
   "nav_menu": {},
   "number_sections": true,
   "sideBar": true,
   "skip_h1_title": false,
   "title_cell": "Table of Contents",
   "title_sidebar": "Contents",
   "toc_cell": false,
   "toc_position": {},
   "toc_section_display": true,
   "toc_window_display": false
  },
  "varInspector": {
   "cols": {
    "lenName": 16,
    "lenType": 16,
    "lenVar": 40
   },
   "kernels_config": {
    "python": {
     "delete_cmd_postfix": "",
     "delete_cmd_prefix": "del ",
     "library": "var_list.py",
     "varRefreshCmd": "print(var_dic_list())"
    },
    "r": {
     "delete_cmd_postfix": ") ",
     "delete_cmd_prefix": "rm(",
     "library": "var_list.r",
     "varRefreshCmd": "cat(var_dic_list()) "
    }
   },
   "types_to_exclude": [
    "module",
    "function",
    "builtin_function_or_method",
    "instance",
    "_Feature"
   ],
   "window_display": false
  }
 },
 "nbformat": 4,
 "nbformat_minor": 5
}
