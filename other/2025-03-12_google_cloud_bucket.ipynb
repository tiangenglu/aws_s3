{
 "cells": [
  {
   "cell_type": "markdown",
   "id": "90d3f7ea",
   "metadata": {},
   "source": [
    "# Connect to Google Cloud Bucket"
   ]
  },
  {
   "cell_type": "code",
   "execution_count": 1,
   "id": "0497ccd4",
   "metadata": {},
   "outputs": [],
   "source": [
    "from google.cloud import storage\n",
    "import pandas as pd\n",
    "import os"
   ]
  },
  {
   "cell_type": "code",
   "execution_count": 3,
   "id": "5fb77dec",
   "metadata": {},
   "outputs": [],
   "source": [
    "import getpass"
   ]
  },
  {
   "cell_type": "code",
   "execution_count": 4,
   "id": "a8275422",
   "metadata": {},
   "outputs": [
    {
     "name": "stdout",
     "output_type": "stream",
     "text": [
      "project id: ········\n"
     ]
    }
   ],
   "source": [
    "project_id = f'{getpass.getpass(\"project id: \")}'"
   ]
  },
  {
   "cell_type": "code",
   "execution_count": null,
   "id": "527ab4fa",
   "metadata": {},
   "outputs": [],
   "source": [
    "# This is a must-do step before the next client step\n",
    "os.environ.setdefault(\"GCLOUD_PROJECT\", project_id) # 'i-destiny-******'"
   ]
  },
  {
   "cell_type": "code",
   "execution_count": 6,
   "id": "6b8a2b4d",
   "metadata": {},
   "outputs": [],
   "source": [
    "client = storage.Client()"
   ]
  },
  {
   "cell_type": "code",
   "execution_count": 7,
   "id": "4754cef1",
   "metadata": {},
   "outputs": [],
   "source": [
    "from opentelemetry import trace\n",
    "from opentelemetry.sdk.trace import TracerProvider\n",
    "from opentelemetry.sdk.trace.export import BatchSpanProcessor\n",
    "from opentelemetry.exporter.cloud_trace import CloudTraceSpanExporter\n",
    "\n",
    "tracer_provider = TracerProvider()\n",
    "tracer_provider.add_span_processor(BatchSpanProcessor(CloudTraceSpanExporter()))\n",
    "trace.set_tracer_provider(tracer_provider)\n",
    "\n",
    "# Optional yet recommended to instrument the requests HTTP library\n",
    "from opentelemetry.instrumentation.requests import RequestsInstrumentor\n",
    "RequestsInstrumentor().instrument(tracer_provider=tracer_provider)"
   ]
  },
  {
   "cell_type": "code",
   "execution_count": 8,
   "id": "a6473a90",
   "metadata": {},
   "outputs": [
    {
     "name": "stdout",
     "output_type": "stream",
     "text": [
      "bucket name:········\n"
     ]
    }
   ],
   "source": [
    "bucket_name = f'{getpass.getpass(\"bucket name:\" )}'"
   ]
  },
  {
   "cell_type": "code",
   "execution_count": 10,
   "id": "91ceffab",
   "metadata": {},
   "outputs": [],
   "source": [
    "bucket = client.get_bucket(bucket_name)"
   ]
  },
  {
   "cell_type": "code",
   "execution_count": 11,
   "id": "dd1d1263",
   "metadata": {},
   "outputs": [
    {
     "data": {
      "text/plain": [
       "google.cloud.storage.bucket.Bucket"
      ]
     },
     "execution_count": 11,
     "metadata": {},
     "output_type": "execute_result"
    }
   ],
   "source": [
    "type(bucket)"
   ]
  },
  {
   "cell_type": "code",
   "execution_count": 31,
   "id": "5ca76025",
   "metadata": {},
   "outputs": [
    {
     "data": {
      "text/plain": [
       "'/b/data_bucket_scraped/o'"
      ]
     },
     "execution_count": 31,
     "metadata": {},
     "output_type": "execute_result"
    }
   ],
   "source": [
    "blobs.path"
   ]
  },
  {
   "cell_type": "code",
   "execution_count": 34,
   "id": "4f6c76a4",
   "metadata": {},
   "outputs": [
    {
     "data": {
      "text/plain": [
       "<Bucket: data_bucket_scraped>"
      ]
     },
     "execution_count": 34,
     "metadata": {},
     "output_type": "execute_result"
    }
   ],
   "source": [
    "blobs.bucket"
   ]
  },
  {
   "cell_type": "markdown",
   "id": "e09b62d6",
   "metadata": {},
   "source": [
    "# Upload local file to Google Cloud Bucket"
   ]
  },
  {
   "cell_type": "code",
   "execution_count": 48,
   "id": "50ce8e7f",
   "metadata": {},
   "outputs": [
    {
     "name": "stdout",
     "output_type": "stream",
     "text": [
      "Local file path: ········\n"
     ]
    }
   ],
   "source": [
    "file_to_upload = f'{getpass.getpass('Local file path: ')}'"
   ]
  },
  {
   "cell_type": "code",
   "execution_count": 50,
   "id": "d8a3ef04",
   "metadata": {},
   "outputs": [],
   "source": [
    "catalog_blob = bucket.blob('catalog/bulletin_catalog') # put the desired file name in the bucket\n",
    "catalog_blob.upload_from_filename(file_to_upload)"
   ]
  },
  {
   "cell_type": "code",
   "execution_count": 41,
   "id": "be37a03e",
   "metadata": {},
   "outputs": [
    {
     "data": {
      "text/plain": [
       "google.cloud.storage.blob.Blob"
      ]
     },
     "execution_count": 41,
     "metadata": {},
     "output_type": "execute_result"
    }
   ],
   "source": [
    "type(catalog_blob)"
   ]
  },
  {
   "cell_type": "code",
   "execution_count": 52,
   "id": "e0589e5e",
   "metadata": {},
   "outputs": [],
   "source": [
    "data_blob = bucket.blob('data/visa_bulletin_all_time.csv') # desired file name for the file to be uploaded\n",
    "data_blob.upload_from_filename('visa_bulletin_alltime.csv')"
   ]
  },
  {
   "cell_type": "code",
   "execution_count": 57,
   "id": "72d7584c",
   "metadata": {},
   "outputs": [
    {
     "name": "stdout",
     "output_type": "stream",
     "text": [
      "catalog/\n",
      "catalog/bulletin_catalog\n",
      "data/\n",
      "data/visa_bulletin_all_time.csv\n"
     ]
    }
   ],
   "source": [
    "# The name of the blob. This corresponds to the unique path of the object in the bucket. \n",
    "blobs=client.list_blobs(bucket_name)\n",
    "for blob in blobs:\n",
    "    print(blob.name)"
   ]
  },
  {
   "cell_type": "code",
   "execution_count": 56,
   "id": "836fce8f",
   "metadata": {},
   "outputs": [
    {
     "data": {
      "text/plain": [
       "google.api_core.page_iterator.HTTPIterator"
      ]
     },
     "execution_count": 56,
     "metadata": {},
     "output_type": "execute_result"
    }
   ],
   "source": [
    "type(blobs)"
   ]
  },
  {
   "cell_type": "markdown",
   "id": "e12ff344",
   "metadata": {},
   "source": [
    "# Upload pandas Dataframe to Google Cloud Bucket\n",
    "\n",
    "`blob.upload_from_string(df.to_csv(), 'text/csv')`"
   ]
  },
  {
   "cell_type": "code",
   "execution_count": 67,
   "id": "e3d2e170",
   "metadata": {},
   "outputs": [],
   "source": [
    "# get the dataframe\n",
    "upload_df = pd.read_csv(\"iv_catalog.csv\")"
   ]
  },
  {
   "cell_type": "code",
   "execution_count": 69,
   "id": "c172e5a5",
   "metadata": {},
   "outputs": [],
   "source": [
    "upload_blob = bucket.blob(\"catalog/immigrant_visa_catalog.csv\")\n",
    "upload_blob.upload_from_string(upload_df.to_csv(index=False), 'text/csv')"
   ]
  },
  {
   "cell_type": "code",
   "execution_count": 71,
   "id": "dcfb64e6",
   "metadata": {},
   "outputs": [],
   "source": [
    "upload_df2 = pd.read_csv(\"niv_catalog.csv\")\n",
    "upload_blob2 = bucket.blob(\"catalog/non_immigrant_visa_catalog.csv\")\n",
    "upload_blob2.upload_from_string(upload_df2.to_csv(index=False),'text/csv')"
   ]
  },
  {
   "cell_type": "markdown",
   "id": "f53f53c9",
   "metadata": {},
   "source": [
    "# Read File from Google Cloud Bucket\n",
    "\n",
    "`pd.read_csv(io.BytesIO(blob.download_as_bytes())`"
   ]
  },
  {
   "cell_type": "code",
   "execution_count": 63,
   "id": "b78421f1",
   "metadata": {},
   "outputs": [
    {
     "data": {
      "text/plain": [
       "<Blob: data_bucket_scraped, catalog/bulletin_catalog, 1741835909720208>"
      ]
     },
     "execution_count": 63,
     "metadata": {},
     "output_type": "execute_result"
    }
   ],
   "source": [
    "catalog_blob"
   ]
  },
  {
   "cell_type": "code",
   "execution_count": 58,
   "id": "33f7e9c2",
   "metadata": {},
   "outputs": [],
   "source": [
    "file_contents = catalog_blob.download_as_bytes()"
   ]
  },
  {
   "cell_type": "code",
   "execution_count": 60,
   "id": "16afd603",
   "metadata": {},
   "outputs": [],
   "source": [
    "import io"
   ]
  },
  {
   "cell_type": "code",
   "execution_count": 61,
   "id": "f5a360fa",
   "metadata": {},
   "outputs": [],
   "source": [
    "df = pd.read_csv(io.BytesIO(file_contents))"
   ]
  },
  {
   "cell_type": "code",
   "execution_count": 62,
   "id": "bde0f81b",
   "metadata": {},
   "outputs": [
    {
     "data": {
      "text/html": [
       "<div>\n",
       "<style scoped>\n",
       "    .dataframe tbody tr th:only-of-type {\n",
       "        vertical-align: middle;\n",
       "    }\n",
       "\n",
       "    .dataframe tbody tr th {\n",
       "        vertical-align: top;\n",
       "    }\n",
       "\n",
       "    .dataframe thead th {\n",
       "        text-align: right;\n",
       "    }\n",
       "</style>\n",
       "<table border=\"1\" class=\"dataframe\">\n",
       "  <thead>\n",
       "    <tr style=\"text-align: right;\">\n",
       "      <th></th>\n",
       "      <th>url</th>\n",
       "      <th>year</th>\n",
       "      <th>month</th>\n",
       "      <th>stamp</th>\n",
       "    </tr>\n",
       "  </thead>\n",
       "  <tbody>\n",
       "    <tr>\n",
       "      <th>0</th>\n",
       "      <td>https://travel.state.gov/content/travel/en/leg...</td>\n",
       "      <td>2001</td>\n",
       "      <td>DECEMBER</td>\n",
       "      <td>2001-12-01</td>\n",
       "    </tr>\n",
       "    <tr>\n",
       "      <th>1</th>\n",
       "      <td>https://travel.state.gov/content/travel/en/leg...</td>\n",
       "      <td>2002</td>\n",
       "      <td>JANUARY</td>\n",
       "      <td>2002-01-01</td>\n",
       "    </tr>\n",
       "    <tr>\n",
       "      <th>2</th>\n",
       "      <td>https://travel.state.gov/content/travel/en/leg...</td>\n",
       "      <td>2002</td>\n",
       "      <td>FEBRUARY</td>\n",
       "      <td>2002-02-01</td>\n",
       "    </tr>\n",
       "    <tr>\n",
       "      <th>3</th>\n",
       "      <td>https://travel.state.gov/content/travel/en/leg...</td>\n",
       "      <td>2002</td>\n",
       "      <td>MARCH</td>\n",
       "      <td>2002-03-01</td>\n",
       "    </tr>\n",
       "    <tr>\n",
       "      <th>4</th>\n",
       "      <td>https://travel.state.gov/content/travel/en/leg...</td>\n",
       "      <td>2002</td>\n",
       "      <td>APRIL</td>\n",
       "      <td>2002-04-01</td>\n",
       "    </tr>\n",
       "  </tbody>\n",
       "</table>\n",
       "</div>"
      ],
      "text/plain": [
       "                                                 url  year     month  \\\n",
       "0  https://travel.state.gov/content/travel/en/leg...  2001  DECEMBER   \n",
       "1  https://travel.state.gov/content/travel/en/leg...  2002   JANUARY   \n",
       "2  https://travel.state.gov/content/travel/en/leg...  2002  FEBRUARY   \n",
       "3  https://travel.state.gov/content/travel/en/leg...  2002     MARCH   \n",
       "4  https://travel.state.gov/content/travel/en/leg...  2002     APRIL   \n",
       "\n",
       "        stamp  \n",
       "0  2001-12-01  \n",
       "1  2002-01-01  \n",
       "2  2002-02-01  \n",
       "3  2002-03-01  \n",
       "4  2002-04-01  "
      ]
     },
     "execution_count": 62,
     "metadata": {},
     "output_type": "execute_result"
    }
   ],
   "source": [
    "df.head()"
   ]
  },
  {
   "cell_type": "markdown",
   "id": "be97e90a",
   "metadata": {},
   "source": [
    "# List Objects in Google Cloud Bucket"
   ]
  },
  {
   "cell_type": "code",
   "execution_count": 76,
   "id": "8be25d9c",
   "metadata": {},
   "outputs": [
    {
     "name": "stdout",
     "output_type": "stream",
     "text": [
      "catalog/\n",
      "catalog/bulletin_catalog\n",
      "catalog/immigrant_visa_catalog.csv\n",
      "catalog/non_immigrant_visa_catalog.csv\n"
     ]
    }
   ],
   "source": [
    "bucket_objects = []\n",
    "for blob in client.list_blobs(bucket_name, prefix='catalog/'):\n",
    "    bucket_objects.append(blob.name)\n",
    "    print(blob.name)"
   ]
  },
  {
   "cell_type": "code",
   "execution_count": 77,
   "id": "812595a9",
   "metadata": {},
   "outputs": [
    {
     "data": {
      "text/plain": [
       "['catalog/',\n",
       " 'catalog/bulletin_catalog',\n",
       " 'catalog/immigrant_visa_catalog.csv',\n",
       " 'catalog/non_immigrant_visa_catalog.csv']"
      ]
     },
     "execution_count": 77,
     "metadata": {},
     "output_type": "execute_result"
    }
   ],
   "source": [
    "bucket_objects"
   ]
  }
 ],
 "metadata": {
  "hide_input": false,
  "kernelspec": {
   "display_name": "py-3-12-3-preview",
   "language": "python",
   "name": "python-312-preview"
  },
  "language_info": {
   "codemirror_mode": {
    "name": "ipython",
    "version": 3
   },
   "file_extension": ".py",
   "mimetype": "text/x-python",
   "name": "python",
   "nbconvert_exporter": "python",
   "pygments_lexer": "ipython3",
   "version": "3.12.3"
  },
  "toc": {
   "base_numbering": 1,
   "nav_menu": {},
   "number_sections": true,
   "sideBar": true,
   "skip_h1_title": false,
   "title_cell": "Table of Contents",
   "title_sidebar": "Contents",
   "toc_cell": false,
   "toc_position": {},
   "toc_section_display": true,
   "toc_window_display": false
  },
  "varInspector": {
   "cols": {
    "lenName": 16,
    "lenType": 16,
    "lenVar": 40
   },
   "kernels_config": {
    "python": {
     "delete_cmd_postfix": "",
     "delete_cmd_prefix": "del ",
     "library": "var_list.py",
     "varRefreshCmd": "print(var_dic_list())"
    },
    "r": {
     "delete_cmd_postfix": ") ",
     "delete_cmd_prefix": "rm(",
     "library": "var_list.r",
     "varRefreshCmd": "cat(var_dic_list()) "
    }
   },
   "types_to_exclude": [
    "module",
    "function",
    "builtin_function_or_method",
    "instance",
    "_Feature"
   ],
   "window_display": false
  }
 },
 "nbformat": 4,
 "nbformat_minor": 5
}
