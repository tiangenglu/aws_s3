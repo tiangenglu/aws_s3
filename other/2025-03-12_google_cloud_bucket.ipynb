{
 "cells": [
  {
   "cell_type": "markdown",
   "id": "39f96b5f",
   "metadata": {},
   "source": [
    "# Connect to Google Cloud Bucket"
   ]
  },
  {
   "cell_type": "code",
   "execution_count": 1,
   "id": "c7ab2235",
   "metadata": {},
   "outputs": [],
   "source": [
    "from google.cloud import storage\n",
    "import pandas as pd\n",
    "import os"
   ]
  },
  {
   "cell_type": "code",
   "execution_count": 3,
   "id": "fd2ba3c7",
   "metadata": {},
   "outputs": [],
   "source": [
    "import getpass"
   ]
  },
  {
   "cell_type": "code",
   "execution_count": 4,
   "id": "15b74e96",
   "metadata": {},
   "outputs": [
    {
     "name": "stdout",
     "output_type": "stream",
     "text": [
      "project id: ········\n"
     ]
    }
   ],
   "source": [
    "project_id = f'{getpass.getpass(\"project id: \")}'"
   ]
  },
  {
   "cell_type": "code",
   "execution_count": null,
   "id": "46739e15",
   "metadata": {},
   "outputs": [],
   "source": [
    "# This is a must-do step before the next client step\n",
    "os.environ.setdefault(\"GCLOUD_PROJECT\", project_id) # 'i-destiny-******'"
   ]
  },
  {
   "cell_type": "code",
   "execution_count": 6,
   "id": "41d17c21",
   "metadata": {},
   "outputs": [],
   "source": [
    "client = storage.Client()"
   ]
  },
  {
   "cell_type": "code",
   "execution_count": 7,
   "id": "ff60b617",
   "metadata": {},
   "outputs": [],
   "source": [
    "from opentelemetry import trace\n",
    "from opentelemetry.sdk.trace import TracerProvider\n",
    "from opentelemetry.sdk.trace.export import BatchSpanProcessor\n",
    "from opentelemetry.exporter.cloud_trace import CloudTraceSpanExporter\n",
    "\n",
    "tracer_provider = TracerProvider()\n",
    "tracer_provider.add_span_processor(BatchSpanProcessor(CloudTraceSpanExporter()))\n",
    "trace.set_tracer_provider(tracer_provider)\n",
    "\n",
    "# Optional yet recommended to instrument the requests HTTP library\n",
    "from opentelemetry.instrumentation.requests import RequestsInstrumentor\n",
    "RequestsInstrumentor().instrument(tracer_provider=tracer_provider)"
   ]
  },
  {
   "cell_type": "code",
   "execution_count": 8,
   "id": "62ed6ba1",
   "metadata": {},
   "outputs": [
    {
     "name": "stdout",
     "output_type": "stream",
     "text": [
      "bucket name:········\n"
     ]
    }
   ],
   "source": [
    "bucket_name = f'{getpass.getpass(\"bucket name:\" )}'"
   ]
  },
  {
   "cell_type": "code",
   "execution_count": 10,
   "id": "f6c271f3",
   "metadata": {},
   "outputs": [],
   "source": [
    "bucket = client.get_bucket(bucket_name)"
   ]
  },
  {
   "cell_type": "code",
   "execution_count": 11,
   "id": "4bfe7bf1",
   "metadata": {},
   "outputs": [
    {
     "data": {
      "text/plain": [
       "google.cloud.storage.bucket.Bucket"
      ]
     },
     "execution_count": 11,
     "metadata": {},
     "output_type": "execute_result"
    }
   ],
   "source": [
    "type(bucket)"
   ]
  },
  {
   "cell_type": "code",
   "execution_count": 31,
   "id": "c728f821",
   "metadata": {},
   "outputs": [
    {
     "data": {
      "text/plain": [
       "'/b/data_bucket_scraped/o'"
      ]
     },
     "execution_count": 31,
     "metadata": {},
     "output_type": "execute_result"
    }
   ],
   "source": [
    "blobs.path"
   ]
  },
  {
   "cell_type": "code",
   "execution_count": 34,
   "id": "fafb8545",
   "metadata": {},
   "outputs": [
    {
     "data": {
      "text/plain": [
       "<Bucket: data_bucket_scraped>"
      ]
     },
     "execution_count": 34,
     "metadata": {},
     "output_type": "execute_result"
    }
   ],
   "source": [
    "blobs.bucket"
   ]
  },
  {
   "cell_type": "markdown",
   "id": "73f6d8d7",
   "metadata": {},
   "source": [
    "# Upload local file to Google Cloud Bucket"
   ]
  },
  {
   "cell_type": "code",
   "execution_count": 48,
   "id": "a8e36050",
   "metadata": {},
   "outputs": [
    {
     "name": "stdout",
     "output_type": "stream",
     "text": [
      "Local file path: ········\n"
     ]
    }
   ],
   "source": [
    "file_to_upload = f'{getpass.getpass('Local file path: ')}'"
   ]
  },
  {
   "cell_type": "code",
   "execution_count": 50,
   "id": "0305f581",
   "metadata": {},
   "outputs": [],
   "source": [
    "catalog_blob = bucket.blob('catalog/bulletin_catalog') # put the desired file name in the bucket\n",
    "catalog_blob.upload_from_filename(file_to_upload)"
   ]
  },
  {
   "cell_type": "code",
   "execution_count": 41,
   "id": "f1501b5c",
   "metadata": {},
   "outputs": [
    {
     "data": {
      "text/plain": [
       "google.cloud.storage.blob.Blob"
      ]
     },
     "execution_count": 41,
     "metadata": {},
     "output_type": "execute_result"
    }
   ],
   "source": [
    "type(catalog_blob)"
   ]
  },
  {
   "cell_type": "code",
   "execution_count": 52,
   "id": "a212b749",
   "metadata": {},
   "outputs": [],
   "source": [
    "data_blob = bucket.blob('data/visa_bulletin_all_time.csv') # desired file name for the file to be uploaded\n",
    "data_blob.upload_from_filename('visa_bulletin_alltime.csv')"
   ]
  },
  {
   "cell_type": "code",
   "execution_count": 57,
   "id": "c09e9e1a",
   "metadata": {},
   "outputs": [
    {
     "name": "stdout",
     "output_type": "stream",
     "text": [
      "catalog/\n",
      "catalog/bulletin_catalog\n",
      "data/\n",
      "data/visa_bulletin_all_time.csv\n"
     ]
    }
   ],
   "source": [
    "# The name of the blob. This corresponds to the unique path of the object in the bucket. \n",
    "blobs=client.list_blobs(bucket_name)\n",
    "for blob in blobs:\n",
    "    print(blob.name)"
   ]
  },
  {
   "cell_type": "code",
   "execution_count": 56,
   "id": "8286d54b",
   "metadata": {},
   "outputs": [
    {
     "data": {
      "text/plain": [
       "google.api_core.page_iterator.HTTPIterator"
      ]
     },
     "execution_count": 56,
     "metadata": {},
     "output_type": "execute_result"
    }
   ],
   "source": [
    "type(blobs)"
   ]
  },
  {
   "cell_type": "markdown",
   "id": "252b06aa",
   "metadata": {},
   "source": [
    "# Upload pandas Dataframe to Google Cloud Bucket\n",
    "\n",
    "`blob.upload_from_string(df.to_csv(), 'text/csv')`"
   ]
  },
  {
   "cell_type": "code",
   "execution_count": 67,
   "id": "3ce3c744",
   "metadata": {},
   "outputs": [],
   "source": [
    "# get the dataframe\n",
    "upload_df = pd.read_csv(\"iv_catalog.csv\")"
   ]
  },
  {
   "cell_type": "code",
   "execution_count": 69,
   "id": "5da3642b",
   "metadata": {},
   "outputs": [],
   "source": [
    "upload_blob = bucket.blob(\"catalog/immigrant_visa_catalog.csv\")\n",
    "upload_blob.upload_from_string(upload_df.to_csv(index=False), 'text/csv')"
   ]
  },
  {
   "cell_type": "code",
   "execution_count": 71,
   "id": "ee8f4352",
   "metadata": {},
   "outputs": [],
   "source": [
    "upload_df2 = pd.read_csv(\"niv_catalog.csv\")\n",
    "upload_blob2 = bucket.blob(\"catalog/non_immigrant_visa_catalog.csv\")\n",
    "upload_blob2.upload_from_string(upload_df2.to_csv(index=False),'text/csv')"
   ]
  },
  {
   "cell_type": "markdown",
   "id": "03fe1b5f",
   "metadata": {},
   "source": [
    "# Read File from Google Cloud Bucket\n",
    "\n",
    "`pd.read_csv(io.BytesIO(blob.download_as_bytes())`"
   ]
  },
  {
   "cell_type": "code",
   "execution_count": 78,
   "id": "c3caa84c",
   "metadata": {},
   "outputs": [
    {
     "data": {
      "text/plain": [
       "'catalog/bulletin_catalog'"
      ]
     },
     "execution_count": 78,
     "metadata": {},
     "output_type": "execute_result"
    }
   ],
   "source": [
    "catalog_blob.name"
   ]
  },
  {
   "cell_type": "code",
   "execution_count": 58,
   "id": "42a48aa6",
   "metadata": {},
   "outputs": [],
   "source": [
    "file_contents = catalog_blob.download_as_bytes()"
   ]
  },
  {
   "cell_type": "code",
   "execution_count": 60,
   "id": "4a70a4b1",
   "metadata": {},
   "outputs": [],
   "source": [
    "import io"
   ]
  },
  {
   "cell_type": "code",
   "execution_count": 61,
   "id": "c693ed84",
   "metadata": {},
   "outputs": [],
   "source": [
    "df = pd.read_csv(io.BytesIO(file_contents))"
   ]
  },
  {
   "cell_type": "code",
   "execution_count": 62,
   "id": "50e8ed9b",
   "metadata": {},
   "outputs": [
    {
     "data": {
      "text/html": [
       "<div>\n",
       "<style scoped>\n",
       "    .dataframe tbody tr th:only-of-type {\n",
       "        vertical-align: middle;\n",
       "    }\n",
       "\n",
       "    .dataframe tbody tr th {\n",
       "        vertical-align: top;\n",
       "    }\n",
       "\n",
       "    .dataframe thead th {\n",
       "        text-align: right;\n",
       "    }\n",
       "</style>\n",
       "<table border=\"1\" class=\"dataframe\">\n",
       "  <thead>\n",
       "    <tr style=\"text-align: right;\">\n",
       "      <th></th>\n",
       "      <th>url</th>\n",
       "      <th>year</th>\n",
       "      <th>month</th>\n",
       "      <th>stamp</th>\n",
       "    </tr>\n",
       "  </thead>\n",
       "  <tbody>\n",
       "    <tr>\n",
       "      <th>0</th>\n",
       "      <td>https://travel.state.gov/content/travel/en/leg...</td>\n",
       "      <td>2001</td>\n",
       "      <td>DECEMBER</td>\n",
       "      <td>2001-12-01</td>\n",
       "    </tr>\n",
       "    <tr>\n",
       "      <th>1</th>\n",
       "      <td>https://travel.state.gov/content/travel/en/leg...</td>\n",
       "      <td>2002</td>\n",
       "      <td>JANUARY</td>\n",
       "      <td>2002-01-01</td>\n",
       "    </tr>\n",
       "    <tr>\n",
       "      <th>2</th>\n",
       "      <td>https://travel.state.gov/content/travel/en/leg...</td>\n",
       "      <td>2002</td>\n",
       "      <td>FEBRUARY</td>\n",
       "      <td>2002-02-01</td>\n",
       "    </tr>\n",
       "    <tr>\n",
       "      <th>3</th>\n",
       "      <td>https://travel.state.gov/content/travel/en/leg...</td>\n",
       "      <td>2002</td>\n",
       "      <td>MARCH</td>\n",
       "      <td>2002-03-01</td>\n",
       "    </tr>\n",
       "    <tr>\n",
       "      <th>4</th>\n",
       "      <td>https://travel.state.gov/content/travel/en/leg...</td>\n",
       "      <td>2002</td>\n",
       "      <td>APRIL</td>\n",
       "      <td>2002-04-01</td>\n",
       "    </tr>\n",
       "  </tbody>\n",
       "</table>\n",
       "</div>"
      ],
      "text/plain": [
       "                                                 url  year     month  \\\n",
       "0  https://travel.state.gov/content/travel/en/leg...  2001  DECEMBER   \n",
       "1  https://travel.state.gov/content/travel/en/leg...  2002   JANUARY   \n",
       "2  https://travel.state.gov/content/travel/en/leg...  2002  FEBRUARY   \n",
       "3  https://travel.state.gov/content/travel/en/leg...  2002     MARCH   \n",
       "4  https://travel.state.gov/content/travel/en/leg...  2002     APRIL   \n",
       "\n",
       "        stamp  \n",
       "0  2001-12-01  \n",
       "1  2002-01-01  \n",
       "2  2002-02-01  \n",
       "3  2002-03-01  \n",
       "4  2002-04-01  "
      ]
     },
     "execution_count": 62,
     "metadata": {},
     "output_type": "execute_result"
    }
   ],
   "source": [
    "df.head()"
   ]
  },
  {
   "cell_type": "markdown",
   "id": "efbd0949",
   "metadata": {},
   "source": [
    "# List Objects in Google Cloud Bucket"
   ]
  },
  {
   "cell_type": "code",
   "execution_count": 76,
   "id": "0d461175",
   "metadata": {},
   "outputs": [
    {
     "name": "stdout",
     "output_type": "stream",
     "text": [
      "catalog/\n",
      "catalog/bulletin_catalog\n",
      "catalog/immigrant_visa_catalog.csv\n",
      "catalog/non_immigrant_visa_catalog.csv\n"
     ]
    }
   ],
   "source": [
    "bucket_objects = []\n",
    "for blob in client.list_blobs(bucket_name, prefix='catalog/'):\n",
    "    bucket_objects.append(blob.name)\n",
    "    print(blob.name)"
   ]
  },
  {
   "cell_type": "code",
   "execution_count": 77,
   "id": "abe6fc1a",
   "metadata": {},
   "outputs": [
    {
     "data": {
      "text/plain": [
       "['catalog/',\n",
       " 'catalog/bulletin_catalog',\n",
       " 'catalog/immigrant_visa_catalog.csv',\n",
       " 'catalog/non_immigrant_visa_catalog.csv']"
      ]
     },
     "execution_count": 77,
     "metadata": {},
     "output_type": "execute_result"
    }
   ],
   "source": [
    "bucket_objects"
   ]
  }
 ],
 "metadata": {
  "hide_input": false,
  "kernelspec": {
   "display_name": "py-3-12-3-preview",
   "language": "python",
   "name": "python-312-preview"
  },
  "language_info": {
   "codemirror_mode": {
    "name": "ipython",
    "version": 3
   },
   "file_extension": ".py",
   "mimetype": "text/x-python",
   "name": "python",
   "nbconvert_exporter": "python",
   "pygments_lexer": "ipython3",
   "version": "3.12.3"
  },
  "toc": {
   "base_numbering": 1,
   "nav_menu": {},
   "number_sections": true,
   "sideBar": true,
   "skip_h1_title": false,
   "title_cell": "Table of Contents",
   "title_sidebar": "Contents",
   "toc_cell": false,
   "toc_position": {},
   "toc_section_display": true,
   "toc_window_display": false
  },
  "varInspector": {
   "cols": {
    "lenName": 16,
    "lenType": 16,
    "lenVar": 40
   },
   "kernels_config": {
    "python": {
     "delete_cmd_postfix": "",
     "delete_cmd_prefix": "del ",
     "library": "var_list.py",
     "varRefreshCmd": "print(var_dic_list())"
    },
    "r": {
     "delete_cmd_postfix": ") ",
     "delete_cmd_prefix": "rm(",
     "library": "var_list.r",
     "varRefreshCmd": "cat(var_dic_list()) "
    }
   },
   "types_to_exclude": [
    "module",
    "function",
    "builtin_function_or_method",
    "instance",
    "_Feature"
   ],
   "window_display": false
  }
 },
 "nbformat": 4,
 "nbformat_minor": 5
}
